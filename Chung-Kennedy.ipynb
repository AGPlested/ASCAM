{
 "cells": [
  {
   "cell_type": "code",
   "execution_count": 10,
   "metadata": {
    "collapsed": true
   },
   "outputs": [],
   "source": [
    "import numpy as np"
   ]
  },
  {
   "cell_type": "code",
   "execution_count": 11,
   "metadata": {
    "collapsed": true
   },
   "outputs": [],
   "source": [
    "x = np.array([1,2,3,5,10])"
   ]
  },
  {
   "cell_type": "code",
   "execution_count": 12,
   "metadata": {
    "collapsed": true
   },
   "outputs": [],
   "source": [
    "def forward_predictor(data,window_width):\n",
    "    \"\"\"\n",
    "    Calculate the forward prediction based on data. https://doi.org/10.1016/0165-0270(91)90118-J\n",
    "    \"\"\"\n",
    "    output = [data[0]] # Leere Liste wird erstellt, da wir diese nach und nach befüllen.\n",
    "    for i in range(1,len(data)): # range gibt uns nach und nach die Indices [0, N-1], wo N die Länge der Daten ist. \n",
    "        if i-window_width>=0: \n",
    "            prediction = 1/window_width*np.sum(data[i-window_width:i])\n",
    "        else:\n",
    "            prediction = 1/i*np.sum(data[:i])\n",
    "        output.append(prediction)\n",
    "    return output"
   ]
  },
  {
   "cell_type": "code",
   "execution_count": 13,
   "metadata": {},
   "outputs": [
    {
     "name": "stdout",
     "output_type": "stream",
     "text": [
      "[1.0, 1.0, 1.0, 1.0, 1.0]\n",
      "[1, 1.0, 1.5, 2.0, 2.75]\n"
     ]
    }
   ],
   "source": [
    "#tests\n",
    "x1 = np.ones(5) # erstellt array der nur einsen enthält. \n",
    "print(forward_predictor(x1,4))\n",
    "print(forward_predictor(x,4))"
   ]
  },
  {
   "cell_type": "code",
   "execution_count": 14,
   "metadata": {
    "collapsed": true
   },
   "outputs": [],
   "source": [
    "def backward_predictor(data,window_width):\n",
    "    \"\"\"\n",
    "    Calculate the backward prediction based on data. https://doi.org/10.1016/0165-0270(91)90118-J\n",
    "    \"\"\"\n",
    "    output = list()\n",
    "    len_data = len(data)\n",
    "    for i in range(len_data-1):\n",
    "        if i+window_width<len_data: \n",
    "            prediction = 1/window_width*np.sum(data[i+1:i+1+window_width])\n",
    "        else:\n",
    "            prediction = 1/(len_data-i-1)*np.sum(data[i+1:])\n",
    "        output.append(prediction)\n",
    "    output.append(data[-1])\n",
    "    return output"
   ]
  },
  {
   "cell_type": "code",
   "execution_count": 15,
   "metadata": {},
   "outputs": [
    {
     "name": "stdout",
     "output_type": "stream",
     "text": [
      "[1.0, 1.0, 1.0, 1.0, 1.0]\n",
      "[3.333333333333333, 6.0, 7.5, 10.0, 10]\n"
     ]
    }
   ],
   "source": [
    "print(backward_predictor(x1,4))\n",
    "print(backward_predictor(x,3))"
   ]
  },
  {
   "cell_type": "code",
   "execution_count": 49,
   "metadata": {},
   "outputs": [],
   "source": [
    "def calculate_forward_weights(data, M, forward_prediction, p):\n",
    "    \"\"\"\n",
    "    Calculate the weight of the forward predictor.\n",
    "    \"\"\"\n",
    "    #predictors should be given as lists, if the first element of forward_prediction is not a list\n",
    "    #it is assumed that only a single forward prediction was given\n",
    "    if type(forward_prediction[0]) is not list:\n",
    "        forward_prediction=[forward_prediction]\n",
    "    \n",
    "    len_data = len(data)\n",
    "    n_predictors = len(forward_prediction)\n",
    "    #allocate weight array\n",
    "    f = np.zeros((n_predictors,len_data))\n",
    "\n",
    "    for i, prediction in enumerate(forward_prediction):\n",
    "        for k in range(len_data):\n",
    "            for j in range(M):\n",
    "                if not k-j<0:\n",
    "                    f[i,k] += (data[k-j]-prediction[k-j])**2\n",
    "            #zero should only occur at the beginning, in order to avoid infinities it is replaced by one\n",
    "            if f[i,k]==0: f[i,k]=1\n",
    "            f[i,k] = f[i,k]**-p\n",
    "    return f"
   ]
  },
  {
   "cell_type": "code",
   "execution_count": 35,
   "metadata": {
    "collapsed": true
   },
   "outputs": [],
   "source": [
    "pr = [forward_predictor(x,2),forward_predictor(x,3)]"
   ]
  },
  {
   "cell_type": "code",
   "execution_count": 42,
   "metadata": {},
   "outputs": [
    {
     "data": {
      "text/plain": [
       "1"
      ]
     },
     "execution_count": 42,
     "metadata": {},
     "output_type": "execute_result"
    }
   ],
   "source": [
    "pr[0][0]"
   ]
  },
  {
   "cell_type": "code",
   "execution_count": 45,
   "metadata": {},
   "outputs": [
    {
     "data": {
      "text/plain": [
       "True"
      ]
     },
     "execution_count": 45,
     "metadata": {},
     "output_type": "execute_result"
    }
   ],
   "source": [
    "type(pr[0][0]) is not list"
   ]
  },
  {
   "cell_type": "code",
   "execution_count": 50,
   "metadata": {},
   "outputs": [
    {
     "name": "stdout",
     "output_type": "stream",
     "text": [
      "5\n"
     ]
    },
    {
     "data": {
      "text/plain": [
       "array([[ 1.        ,  1.        ,  0.30769231,  0.11764706,  0.02366864]])"
      ]
     },
     "execution_count": 50,
     "metadata": {},
     "output_type": "execute_result"
    }
   ],
   "source": [
    "calculate_forward_weights(x,2,pr[0],1)"
   ]
  },
  {
   "cell_type": "code",
   "execution_count": 28,
   "metadata": {},
   "outputs": [
    {
     "data": {
      "text/plain": [
       "0.11764705882352941"
      ]
     },
     "execution_count": 28,
     "metadata": {},
     "output_type": "execute_result"
    }
   ],
   "source": [
    "((5-2.5)**2+2.25)**-1"
   ]
  },
  {
   "cell_type": "code",
   "execution_count": 30,
   "metadata": {},
   "outputs": [
    {
     "data": {
      "text/plain": [
       "0.023668639053254437"
      ]
     },
     "execution_count": 30,
     "metadata": {},
     "output_type": "execute_result"
    }
   ],
   "source": [
    "((6)**2+6.25)**-1"
   ]
  },
  {
   "cell_type": "code",
   "execution_count": null,
   "metadata": {
    "collapsed": true
   },
   "outputs": [],
   "source": []
  },
  {
   "cell_type": "code",
   "execution_count": 56,
   "metadata": {},
   "outputs": [],
   "source": [
    "def calculate_backward_weights(data, M, backward_prediction, p):\n",
    "    \"\"\"\n",
    "    Calculate the weight of the forward predictor.\n",
    "    \"\"\"\n",
    "    #predictors should be given as lists, if the first element of backward_prediction is not a list\n",
    "    #it is assumed that only a single backward prediction was given\n",
    "    if type(backward_prediction[0]) is not list:\n",
    "        backward_prediction=[backward_prediction]\n",
    "    \n",
    "    len_data = len(data)\n",
    "    n_predictors = len(backward_prediction)\n",
    "    #allocate weight array\n",
    "    b = np.zeros((n_predictors,len_data))\n",
    "\n",
    "    for i, prediction in enumerate(backward_prediction):\n",
    "        for k in range(len_data):\n",
    "            for j in range(M):\n",
    "                if not k+j>=len_data:\n",
    "                    b[i,k] += (data[k+j]-prediction[k+j])**2\n",
    "            #zero should only occur at the beginning, in order to avoid infinities it is replaced by one\n",
    "            if b[i,k]==0: b[i,k]=1\n",
    "            b[i,k] = b[i,k]**-p\n",
    "    return b"
   ]
  },
  {
   "cell_type": "code",
   "execution_count": 57,
   "metadata": {
    "collapsed": true
   },
   "outputs": [],
   "source": [
    "bpr = [backward_predictor(x,2),backward_predictor(x,3)]"
   ]
  },
  {
   "cell_type": "code",
   "execution_count": 58,
   "metadata": {},
   "outputs": [
    {
     "data": {
      "text/plain": [
       "array([[ 0.16      ,  0.04123711,  0.02209945,  0.04      ,  1.        ]])"
      ]
     },
     "execution_count": 58,
     "metadata": {},
     "output_type": "execute_result"
    }
   ],
   "source": [
    "calculate_backward_weights(x,2,bpr[0],1)"
   ]
  },
  {
   "cell_type": "code",
   "execution_count": 59,
   "metadata": {},
   "outputs": [
    {
     "data": {
      "text/plain": [
       "[[2.5, 4.0, 7.5, 10.0, 10], [3.333333333333333, 6.0, 7.5, 10.0, 10]]"
      ]
     },
     "execution_count": 59,
     "metadata": {},
     "output_type": "execute_result"
    }
   ],
   "source": [
    "bpr"
   ]
  },
  {
   "cell_type": "code",
   "execution_count": 60,
   "metadata": {},
   "outputs": [
    {
     "data": {
      "text/plain": [
       "array([ 1,  2,  3,  5, 10])"
      ]
     },
     "execution_count": 60,
     "metadata": {},
     "output_type": "execute_result"
    }
   ],
   "source": [
    "x"
   ]
  },
  {
   "cell_type": "code",
   "execution_count": 61,
   "metadata": {},
   "outputs": [
    {
     "data": {
      "text/plain": [
       "0.16"
      ]
     },
     "execution_count": 61,
     "metadata": {},
     "output_type": "execute_result"
    }
   ],
   "source": [
    "1/6.25"
   ]
  },
  {
   "cell_type": "code",
   "execution_count": null,
   "metadata": {
    "collapsed": true
   },
   "outputs": [],
   "source": []
  }
 ],
 "metadata": {
  "kernelspec": {
   "display_name": "Python 3",
   "language": "python",
   "name": "python3"
  },
  "language_info": {
   "codemirror_mode": {
    "name": "ipython",
    "version": 3
   },
   "file_extension": ".py",
   "mimetype": "text/x-python",
   "name": "python",
   "nbconvert_exporter": "python",
   "pygments_lexer": "ipython3",
   "version": "3.6.3"
  }
 },
 "nbformat": 4,
 "nbformat_minor": 2
}
