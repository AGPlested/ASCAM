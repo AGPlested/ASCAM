{
 "cells": [
  {
   "cell_type": "code",
   "execution_count": 1,
   "metadata": {},
   "outputs": [],
   "source": [
    "import numpy as np"
   ]
  },
  {
   "cell_type": "code",
   "execution_count": 2,
   "metadata": {},
   "outputs": [],
   "source": [
    "def forward_predictor(data,window_width):\n",
    "    \"\"\"\n",
    "    Calculate the forward prediction based on data. https://doi.org/10.1016/0165-0270(91)90118-J\n",
    "    \"\"\"\n",
    "    output = [data[0]] # Leere Liste wird erstellt, da wir diese nach und nach befüllen.\n",
    "    for i in range(1,len(data)): # range gibt uns nach und nach die Indices [0, N-1], wo N die Länge der Daten ist. \n",
    "        if i-window_width>=0: \n",
    "            prediction = 1/window_width*np.sum(data[i-window_width:i])\n",
    "        else:\n",
    "            prediction = 1/i*np.sum(data[:i])\n",
    "        output.append(prediction)\n",
    "    return output"
   ]
  },
  {
   "cell_type": "code",
   "execution_count": 3,
   "metadata": {},
   "outputs": [],
   "source": [
    "def backward_predictor(data,window_width):\n",
    "    \"\"\"\n",
    "    Calculate the backward prediction based on data. https://doi.org/10.1016/0165-0270(91)90118-J\n",
    "    \"\"\"\n",
    "    output = list()\n",
    "    len_data = len(data)\n",
    "    for i in range(len_data-1):\n",
    "        if i+window_width<len_data: \n",
    "            prediction = 1/window_width*np.sum(data[i+1:i+1+window_width])\n",
    "        else:\n",
    "            prediction = 1/(len_data-i-1)*np.sum(data[i+1:])\n",
    "        output.append(prediction)\n",
    "    output.append(data[-1])\n",
    "    return output"
   ]
  },
  {
   "cell_type": "code",
   "execution_count": 4,
   "metadata": {},
   "outputs": [],
   "source": [
    "def calculate_forward_weights(data, M, forward_prediction, p):\n",
    "    \"\"\"\n",
    "    Calculate the weight of the forward predictor.\n",
    "    \"\"\"\n",
    "    #predictors should be given as lists, if the first element of forward_prediction is not a list\n",
    "    #it is assumed that only a single forward prediction was given\n",
    "    if type(forward_prediction[0]) is not list:\n",
    "        forward_prediction=[forward_prediction]\n",
    "    \n",
    "    len_data = len(data)\n",
    "    n_predictors = len(forward_prediction)\n",
    "    #allocate weight array\n",
    "    f = np.zeros((n_predictors,len_data))\n",
    "\n",
    "    for i, prediction in enumerate(forward_prediction):\n",
    "        for k in range(len_data):\n",
    "            for j in range(M):\n",
    "                if not k-j<0:\n",
    "                    f[i,k] += (data[k-j]-prediction[k-j])**2\n",
    "            #zero should only occur at the beginning, in order to avoid infinities it is replaced by one\n",
    "            if f[i,k]==0: f[i,k]=1\n",
    "            f[i,k] = f[i,k]**-p\n",
    "    return f"
   ]
  },
  {
   "cell_type": "code",
   "execution_count": 5,
   "metadata": {},
   "outputs": [],
   "source": [
    "def calculate_backward_weights(data, M, backward_prediction, p):\n",
    "    \"\"\"\n",
    "    Calculate the weight of the forward predictor.\n",
    "    \"\"\"\n",
    "    #predictors should be given as lists, if the first element of backward_prediction is not a list\n",
    "    #it is assumed that only a single backward prediction was given\n",
    "    if type(backward_prediction[0]) is not list:\n",
    "        backward_prediction=[backward_prediction]\n",
    "    \n",
    "    len_data = len(data)\n",
    "    n_predictors = len(backward_prediction)\n",
    "    #allocate weight array\n",
    "    b = np.zeros((n_predictors,len_data))\n",
    "\n",
    "    for i, prediction in enumerate(backward_prediction):\n",
    "        for k in range(len_data):\n",
    "            for j in range(M):\n",
    "                if not k+j>=len_data:\n",
    "                    b[i,k] += (data[k+j]-prediction[k+j])**2\n",
    "            #zero should only occur at the beginning, in order to avoid infinities it is replaced by one\n",
    "            if b[i,k]==0: b[i,k]=1\n",
    "            b[i,k] = b[i,k]**-p\n",
    "    return b"
   ]
  },
  {
   "cell_type": "code",
   "execution_count": 14,
   "metadata": {},
   "outputs": [],
   "source": [
    "x = np.array([1,2,3,5,6,8,10,12,14,20,10,15,2,3,5,18,14,12,14])\n",
    "\n",
    "tp2 = 1/2*np.array([2,2,3,5,8,11,14,18,22,26,34,30,25,17,5,8,23,32,26])\n",
    "\n",
    "tp3 = 1/3*np.array([3,3,4,6,10,14,19,24,30,36,46,44,45,27,20,10,26,37,44])"
   ]
  },
  {
   "cell_type": "code",
   "execution_count": 20,
   "metadata": {},
   "outputs": [],
   "source": [
    "def test_forward_pred():\n",
    "    #input\n",
    "    x = np.array([1,2,3,5,6,8,10,12,14,20,10,15,2,3,5,18,14,12,14])\n",
    "    #targets\n",
    "    tp2 = 1/2*np.array([2,2,3,5,8,11,14,18,22,26,34,30,25,17,5,8,23,32,26])\n",
    "    tp3 = 1/3*np.array([3,3,4,6,10,14,19,24,30,36,46,44,45,27,20,10,26,37,44])\n",
    "    p2 = forward_predictor(x,2)\n",
    "    p3 = forward_predictor(x,3)\n",
    "    assert np.all(tp2==p2)\n",
    "    assert np.all(tp3==p3)"
   ]
  },
  {
   "cell_type": "code",
   "execution_count": 21,
   "metadata": {},
   "outputs": [
    {
     "ename": "AssertionError",
     "evalue": "",
     "output_type": "error",
     "traceback": [
      "\u001b[0;31m---------------------------------------------------------------------------\u001b[0m",
      "\u001b[0;31mAssertionError\u001b[0m                            Traceback (most recent call last)",
      "\u001b[0;32m<ipython-input-21-73e7d45d6548>\u001b[0m in \u001b[0;36m<module>\u001b[0;34m()\u001b[0m\n\u001b[0;32m----> 1\u001b[0;31m \u001b[0mtest_forward_pred\u001b[0m\u001b[0;34m(\u001b[0m\u001b[0;34m)\u001b[0m\u001b[0;34m\u001b[0m\u001b[0m\n\u001b[0m",
      "\u001b[0;32m<ipython-input-20-0ec546b1bfa1>\u001b[0m in \u001b[0;36mtest_forward_pred\u001b[0;34m()\u001b[0m\n\u001b[1;32m      8\u001b[0m     \u001b[0mp3\u001b[0m \u001b[0;34m=\u001b[0m \u001b[0mforward_predictor\u001b[0m\u001b[0;34m(\u001b[0m\u001b[0mx\u001b[0m\u001b[0;34m,\u001b[0m\u001b[0;36m3\u001b[0m\u001b[0;34m)\u001b[0m\u001b[0;34m\u001b[0m\u001b[0m\n\u001b[1;32m      9\u001b[0m     \u001b[0;32massert\u001b[0m \u001b[0mnp\u001b[0m\u001b[0;34m.\u001b[0m\u001b[0mall\u001b[0m\u001b[0;34m(\u001b[0m\u001b[0mtp2\u001b[0m\u001b[0;34m==\u001b[0m\u001b[0mp2\u001b[0m\u001b[0;34m)\u001b[0m\u001b[0;34m\u001b[0m\u001b[0m\n\u001b[0;32m---> 10\u001b[0;31m     \u001b[0;32massert\u001b[0m \u001b[0mnp\u001b[0m\u001b[0;34m.\u001b[0m\u001b[0mall\u001b[0m\u001b[0;34m(\u001b[0m\u001b[0mtp3\u001b[0m\u001b[0;34m==\u001b[0m\u001b[0mp3\u001b[0m\u001b[0;34m)\u001b[0m\u001b[0;34m\u001b[0m\u001b[0m\n\u001b[0m",
      "\u001b[0;31mAssertionError\u001b[0m: "
     ]
    }
   ],
   "source": [
    "test_forward_pred()"
   ]
  },
  {
   "cell_type": "code",
   "execution_count": 7,
   "metadata": {},
   "outputs": [
    {
     "name": "stdout",
     "output_type": "stream",
     "text": [
      "[1, 1.0, 1.5, 2.5, 4.0] [ 1  2  3  5 10]\n"
     ]
    }
   ],
   "source": [
    "pred_2 = forward_predictor(x,2)\n",
    "print(pred_2,x)"
   ]
  },
  {
   "cell_type": "code",
   "execution_count": null,
   "metadata": {},
   "outputs": [],
   "source": [
    "t_out = [\n",
    "        1,\n",
    "        1,\n",
    "        \n",
    "        ]"
   ]
  }
 ],
 "metadata": {
  "kernelspec": {
   "display_name": "Python 3",
   "language": "python",
   "name": "python3"
  },
  "language_info": {
   "codemirror_mode": {
    "name": "ipython",
    "version": 3
   },
   "file_extension": ".py",
   "mimetype": "text/x-python",
   "name": "python",
   "nbconvert_exporter": "python",
   "pygments_lexer": "ipython3",
   "version": "3.6.5"
  }
 },
 "nbformat": 4,
 "nbformat_minor": 2
}
