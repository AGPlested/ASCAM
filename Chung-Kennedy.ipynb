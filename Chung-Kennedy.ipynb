{
 "cells": [
  {
   "cell_type": "code",
   "execution_count": 2,
   "metadata": {
    "collapsed": true
   },
   "outputs": [],
   "source": [
    "import numpy as np"
   ]
  },
  {
   "cell_type": "code",
   "execution_count": 3,
   "metadata": {
    "collapsed": true
   },
   "outputs": [],
   "source": [
    "x = np.array([1,2,3,5,10])"
   ]
  },
  {
   "cell_type": "code",
   "execution_count": 17,
   "metadata": {
    "collapsed": true
   },
   "outputs": [],
   "source": [
    "def forward_predictor(data,window_width):\n",
    "    \"\"\"\n",
    "    Calculate the forward prediction based on data. https://doi.org/10.1016/0165-0270(91)90118-J\n",
    "    \"\"\"\n",
    "    output = [data[0]] # Leere Liste wird erstellt, da wir diese nach und nach befüllen.\n",
    "    for i in range(1,len(data)): # range gibt uns nach und nach die Indices [0, N-1], wo N die Länge der Daten ist. \n",
    "        if i-window_width>=0: \n",
    "            prediction = 1/window_width*np.sum(data[i-window_width:i])\n",
    "        else:\n",
    "            prediction = 1/i*np.sum(data[:i])\n",
    "        output.append(prediction)\n",
    "    return output"
   ]
  },
  {
   "cell_type": "code",
   "execution_count": 19,
   "metadata": {},
   "outputs": [
    {
     "name": "stdout",
     "output_type": "stream",
     "text": [
      "[1.0, 1.0, 1.0, 1.0, 1.0]\n",
      "[1, 1.0, 1.5, 2.0, 2.75]\n"
     ]
    }
   ],
   "source": [
    "#tests\n",
    "x1 = np.ones(5) # erstellt array der nur einsen enthält. \n",
    "print(forward_predictor(x1,4))\n",
    "print(forward_predictor(x,4))"
   ]
  },
  {
   "cell_type": "code",
   "execution_count": 20,
   "metadata": {},
   "outputs": [],
   "source": [
    "def backward_predictor(data,window_width):\n",
    "    \"\"\"\n",
    "    Calculate the backward prediction based on data. https://doi.org/10.1016/0165-0270(91)90118-J\n",
    "    \"\"\"\n",
    "    output = list()\n",
    "    len_data = len(data)\n",
    "    for i in range(len_data-1):\n",
    "        if i+window_width<len_data: \n",
    "            prediction = 1/window_width*np.sum(data[i+1:i+1+window_width])\n",
    "        else:\n",
    "            prediction = 1/(len_data-i-1)*np.sum(data[i+1:])\n",
    "        output.append(prediction)\n",
    "    output.append(data[-1])\n",
    "    return output"
   ]
  },
  {
   "cell_type": "code",
   "execution_count": 23,
   "metadata": {},
   "outputs": [
    {
     "name": "stdout",
     "output_type": "stream",
     "text": [
      "[1.0, 1.0, 1.0, 1.0, 1.0]\n",
      "[3.333333333333333, 6.0, 7.5, 10.0, 10]\n"
     ]
    }
   ],
   "source": [
    "print(backward_predictor(x1,4))\n",
    "print(backward_predictor(x,3))"
   ]
  },
  {
   "cell_type": "code",
   "execution_count": 22,
   "metadata": {},
   "outputs": [
    {
     "data": {
      "text/plain": [
       "array([ 1,  2,  3,  5, 10])"
      ]
     },
     "execution_count": 22,
     "metadata": {},
     "output_type": "execute_result"
    }
   ],
   "source": [
    "x"
   ]
  },
  {
   "cell_type": "code",
   "execution_count": 26,
   "metadata": {},
   "outputs": [
    {
     "data": {
      "text/plain": [
       "array([ 3,  5, 10])"
      ]
     },
     "execution_count": 26,
     "metadata": {},
     "output_type": "execute_result"
    }
   ],
   "source": [
    "x[2:100]"
   ]
  },
  {
   "cell_type": "code",
   "execution_count": null,
   "metadata": {
    "collapsed": true
   },
   "outputs": [],
   "source": []
  }
 ],
 "metadata": {
  "kernelspec": {
   "display_name": "Python 3",
   "language": "python",
   "name": "python3"
  },
  "language_info": {
   "codemirror_mode": {
    "name": "ipython",
    "version": 3
   },
   "file_extension": ".py",
   "mimetype": "text/x-python",
   "name": "python",
   "nbconvert_exporter": "python",
   "pygments_lexer": "ipython3",
   "version": "3.6.3"
  }
 },
 "nbformat": 4,
 "nbformat_minor": 2
}
