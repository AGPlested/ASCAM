{
 "cells": [
  {
   "cell_type": "code",
   "execution_count": 1,
   "metadata": {
    "ExecuteTime": {
     "end_time": "2017-08-25T17:53:04.001995Z",
     "start_time": "2017-08-25T17:53:03.509273Z"
    },
    "collapsed": false,
    "editable": true
   },
   "outputs": [],
   "source": [
    "import tkinter as tk\n",
    "from tkinter import ttk\n",
    "import model, os\n",
    "import numpy as np\n",
    "from tkinter.filedialog import askopenfilename\n",
    "\n",
    "%load_ext autoreload\n",
    "%reload_ext autoreload\n",
    "%autoreload 2"
   ]
  },
  {
   "cell_type": "code",
   "execution_count": 2,
   "metadata": {
    "ExecuteTime": {
     "end_time": "2017-08-25T14:32:56.747549Z",
     "start_time": "2017-08-25T14:32:56.637222Z"
    },
    "collapsed": false,
    "editable": true
   },
   "outputs": [
    {
     "ename": "NameError",
     "evalue": "name 'filename' is not defined",
     "output_type": "error",
     "traceback": [
      "\u001b[0;31m---------------------------------------------------------------------------\u001b[0m",
      "\u001b[0;31mNameError\u001b[0m                                 Traceback (most recent call last)",
      "\u001b[0;32m<ipython-input-2-29015e47caef>\u001b[0m in \u001b[0;36m<module>\u001b[0;34m()\u001b[0m\n\u001b[1;32m      3\u001b[0m \u001b[0mbt\u001b[0m \u001b[0;34m=\u001b[0m \u001b[0mnp\u001b[0m\u001b[0;34m.\u001b[0m\u001b[0mint16\u001b[0m\u001b[0;34m\u001b[0m\u001b[0m\n\u001b[1;32m      4\u001b[0m \u001b[0mbh\u001b[0m \u001b[0;34m=\u001b[0m \u001b[0;36m3072\u001b[0m\u001b[0;34m\u001b[0m\u001b[0m\n\u001b[0;32m----> 5\u001b[0;31m \u001b[0mrec\u001b[0m \u001b[0;34m=\u001b[0m \u001b[0mmodel\u001b[0m\u001b[0;34m.\u001b[0m\u001b[0mRecording\u001b[0m\u001b[0;34m(\u001b[0m\u001b[0mfilename\u001b[0m\u001b[0;34m=\u001b[0m\u001b[0mfilename\u001b[0m\u001b[0;34m,\u001b[0m\u001b[0mfiletype\u001b[0m\u001b[0;34m=\u001b[0m\u001b[0;34m'bin'\u001b[0m\u001b[0;34m,\u001b[0m\u001b[0mheaderlength\u001b[0m\u001b[0;34m=\u001b[0m\u001b[0mbh\u001b[0m\u001b[0;34m,\u001b[0m\u001b[0mbindtype\u001b[0m\u001b[0;34m=\u001b[0m\u001b[0mbt\u001b[0m\u001b[0;34m)\u001b[0m\u001b[0;34m\u001b[0m\u001b[0m\n\u001b[0m",
      "\u001b[0;31mNameError\u001b[0m: name 'filename' is not defined"
     ]
    }
   ],
   "source": [
    "cwd = os.getcwd()\n",
    "bn = cwd+'/data/sim1600.bin'\n",
    "bt = np.int16\n",
    "bh = 3072\n",
    "rec = model.Recording(filename=filename,filetype='bin',headerlength=bh,bindtype=bt)"
   ]
  },
  {
   "cell_type": "code",
   "execution_count": 49,
   "metadata": {
    "ExecuteTime": {
     "end_time": "2017-08-25T18:56:31.332948Z",
     "start_time": "2017-08-25T18:56:31.209941Z"
    },
    "code_folding": [
     74
    ],
    "collapsed": false,
    "editable": true
   },
   "outputs": [],
   "source": [
    "\n",
    "\n",
    "def quit():\n",
    "    \"\"\"\n",
    "    Close all windows and exit the main loop\n",
    "    \"\"\"\n",
    "    root.destroy()\n",
    "    root.quit()\n",
    "    \n",
    "        \n",
    "        \n",
    "class mainframe(ttk.Frame):\n",
    "    ###create main frame that will hold all permanent widgets\n",
    "    def __init__(self, master):\n",
    "        ttk.Frame.__init__(self, master)\n",
    "        self.master = master\n",
    "        self.padding=\"3 3 12 12\"\n",
    "        self.grid(column=0, row=0, sticky=(tk.N, tk.W, tk.E, tk.S))\n",
    "        self.columnconfigure(0, weight=1)\n",
    "        self.rowconfigure(0, weight=1)\n",
    "        self.commandbar = commandframe(self)\n",
    "        self.commandbar.grid(column=1,row=1,sticky=(tk.E, tk.N, tk.W))\n",
    "        self.commandbar.load.focus()\n",
    "class commandframe(ttk.Frame):\n",
    "    def __init__(self, parent):\n",
    "        ttk.Frame.__init__(self, parent)\n",
    "        self.parent = parent\n",
    "        self.grid(column=0, row=0, sticky=(tk.N, tk.W, tk.E))\n",
    "        self.rowconfigure(0, weight=1)\n",
    "        self.create_widgets()\n",
    "    def create_widgets(self):\n",
    "        self.load = ttk.Button(self, text=\"Load file\", command=self.load_dialog)\n",
    "        self.load.grid(column=1,row=1,sticky=(tk.N, tk.E))\n",
    "    def load_dialog(self):\n",
    "        subframe = loadframe(self.master)\n",
    "    \n",
    "class loadframe(tk.Toplevel):\n",
    "    ### temporary frame that gets the file and information about it\n",
    "    def __init__(self, master):\n",
    "        tk.Toplevel.__init__(self,master)\n",
    "        self.master = master\n",
    "        self.padding=\"3 3 12 12\"\n",
    "        self.create_widgets()\n",
    "        self.loadbutton.focus()\n",
    "        for child in self.winfo_children(): child.grid_configure(padx=5, pady=5)\n",
    "    \n",
    "    def create_widgets(self):\n",
    "        # first row - filename and button for choosing file\n",
    "        ttk.Label(self, text='File:').grid(column=1, row=1, sticky = (tk.N, tk.W))\n",
    "        ttk.Label(self, textvariable=filename).grid(column=2, row=1, sticky=(tk.N, tk.W, tk.E))\n",
    "        self.loadbutton = ttk.Button(self, text='Select file', command=self.get_file)\n",
    "        self.loadbutton.grid(column = 3, row = 1, sticky=(tk.N, tk.E))\n",
    "        #second row - show filepath\n",
    "        ttk.Label(self, text='Path:').grid(column=1, row=2, sticky = tk.W)\n",
    "        ttk.Label(self, textvariable=path).grid(column=2, row=2, sticky=(tk.W, tk.E))\n",
    "        #third row - show filetype\n",
    "        ttk.Label(self, text='Filetype:').grid(column=1, row=3, sticky = tk.W)\n",
    "        ttk.Label(self, textvariable=filetypefull).grid(column=2, row=3, sticky=(tk.W, tk.E))\n",
    "        #fourth row - ok button to close and go to next window\n",
    "        self.closebutton = ttk.Button(self, text=\"Quit\", command=quit)\n",
    "        self.closebutton.grid(column=3, row=4, sticky=(tk.S, tk.E))\n",
    "        self.okbutton = ttk.Button(self, text=\"Ok\", command=self.destroy)\n",
    "        self.okbutton.grid(column=1, row=4, sticky=(tk.S, tk.W))\n",
    "    def get_file():\n",
    "        \"\"\"\n",
    "        Get data by clicking\n",
    "        relies on tkinter and gets name and type of the file\n",
    "        \"\"\"\n",
    "        fn = askopenfilename()\n",
    "        filenamefull.set(fn)\n",
    "        extension = ''\n",
    "        i = 0\n",
    "        N = len(fn)\n",
    "        for char in fn[::-1]:\n",
    "            if char=='.': \n",
    "                period = N-i\n",
    "            if char=='/':\n",
    "                slash = N-i\n",
    "                break\n",
    "            i+=1\n",
    "        filename.set(fn[slash:])\n",
    "        path.set(fn[:slash])\n",
    "        extension=fn[period:]\n",
    "        if extension == 'bin':\n",
    "            filetype.set('bin')\n",
    "            filetypefull.set('binary')\n",
    "        elif extension == 'axgd':\n",
    "            filetype.set('axo')\n",
    "            filetypefull.set('axograph')"
   ]
  },
  {
   "cell_type": "code",
   "execution_count": 52,
   "metadata": {
    "ExecuteTime": {
     "end_time": "2017-08-25T18:58:56.586537Z",
     "start_time": "2017-08-25T18:58:53.521194Z"
    },
    "collapsed": false
   },
   "outputs": [],
   "source": [
    "### initialize tkinter root window\n",
    "root = tk.Tk()\n",
    "\n",
    "### variables\n",
    "filenamefull = tk.StringVar()\n",
    "filename = tk.StringVar()\n",
    "path = tk.StringVar()\n",
    "filetypefull = tk.StringVar()\n",
    "filetype = tk.StringVar()\n",
    "filterfrequency = tk.DoubleVar()\n",
    "baselineorder = tk.IntVar()\n",
    "\n",
    "### load frames\n",
    "_ = mainframe(root)\n",
    "for child in root.winfo_children(): child.grid_configure(padx=5, pady=5)\n",
    "root.mainloop()"
   ]
  },
  {
   "cell_type": "code",
   "execution_count": null,
   "metadata": {
    "collapsed": true
   },
   "outputs": [],
   "source": []
  }
 ],
 "metadata": {
  "kernelspec": {
   "display_name": "Python 3",
   "language": "python",
   "name": "python3"
  },
  "language_info": {
   "codemirror_mode": {
    "name": "ipython",
    "version": 3
   },
   "file_extension": ".py",
   "mimetype": "text/x-python",
   "name": "python",
   "nbconvert_exporter": "python",
   "pygments_lexer": "ipython3",
   "version": "3.6.0"
  },
  "toc": {
   "colors": {
    "hover_highlight": "#DAA520",
    "navigate_num": "#000000",
    "navigate_text": "#333333",
    "running_highlight": "#FF0000",
    "selected_highlight": "#FFD700",
    "sidebar_border": "#EEEEEE",
    "wrapper_background": "#FFFFFF"
   },
   "moveMenuLeft": true,
   "nav_menu": {
    "height": "12px",
    "width": "252px"
   },
   "navigate_menu": true,
   "number_sections": true,
   "sideBar": true,
   "threshold": 4,
   "toc_cell": false,
   "toc_section_display": "block",
   "toc_window_display": false,
   "widenNotebook": false
  },
  "varInspector": {
   "cols": {
    "lenName": 16,
    "lenType": 16,
    "lenVar": 40
   },
   "kernels_config": {
    "python": {
     "delete_cmd_postfix": "",
     "delete_cmd_prefix": "del ",
     "library": "var_list.py",
     "varRefreshCmd": "print(var_dic_list())"
    },
    "r": {
     "delete_cmd_postfix": ") ",
     "delete_cmd_prefix": "rm(",
     "library": "var_list.r",
     "varRefreshCmd": "cat(var_dic_list()) "
    }
   },
   "types_to_exclude": [
    "module",
    "function",
    "builtin_function_or_method",
    "instance",
    "_Feature"
   ],
   "window_display": false
  }
 },
 "nbformat": 4,
 "nbformat_minor": 2
}
