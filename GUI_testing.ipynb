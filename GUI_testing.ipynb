{
 "cells": [
  {
   "cell_type": "code",
   "execution_count": 1,
   "metadata": {
    "ExecuteTime": {
     "end_time": "2017-09-08T11:25:28.341457Z",
     "start_time": "2017-09-08T11:25:27.870796Z"
    },
    "collapsed": false,
    "editable": true
   },
   "outputs": [],
   "source": [
    "import tkinter as tk\n",
    "from tkinter import ttk\n",
    "from tkinter.filedialog import askopenfilename\n",
    "import matplotlib\n",
    "matplotlib.use('TkAgg')\n",
    "import model, os\n",
    "import numpy as np\n",
    "import matplotlib.pyplot as plt\n",
    "%load_ext autoreload\n",
    "%reload_ext autoreload\n",
    "%autoreload 2"
   ]
  },
  {
   "cell_type": "code",
   "execution_count": 2,
   "metadata": {
    "ExecuteTime": {
     "end_time": "2017-09-08T11:25:29.126167Z",
     "start_time": "2017-09-08T11:25:29.109491Z"
    },
    "collapsed": true,
    "editable": true
   },
   "outputs": [],
   "source": [
    "from matplotlib.backends.backend_tkagg import FigureCanvasTkAgg, NavigationToolbar2TkAgg\n",
    "from matplotlib.backend_bases import key_press_handler"
   ]
  },
  {
   "cell_type": "code",
   "execution_count": 5,
   "metadata": {
    "ExecuteTime": {
     "end_time": "2017-09-08T16:33:56.605515Z",
     "start_time": "2017-09-08T16:33:56.411226Z"
    },
    "collapsed": false,
    "editable": true
   },
   "outputs": [],
   "source": [
    "x = np.linspace(0,2*np.pi)\n",
    "y = np.cos(x)\n",
    "fig = plt.figure(figsize=(5,2))\n",
    "a = fig.add_subplot(111)\n",
    "a.plot(x,y)\n",
    "\n",
    "root = tk.Tk()\n",
    "\n",
    "canvas = FigureCanvasTkAgg(fig,master=root)\n",
    "canvas.show()\n",
    "canvas.get_tk_widget().pack(fill=tk.BOTH,expand=True)\n",
    "\n",
    "toolbar = NavigationToolbar2TkAgg(canvas, root)\n",
    "toolbar.update()\n",
    "canvas._tkcanvas.pack()"
   ]
  },
  {
   "cell_type": "code",
   "execution_count": null,
   "metadata": {
    "collapsed": true,
    "editable": true
   },
   "outputs": [],
   "source": [
    "cwd = os.getcwd()\n",
    "bn = cwd+'/data/sim1600.bin'\n",
    "bt = np.int16\n",
    "bh = 3072\n",
    "rec = model.Recording(filename=filename,filetype='bin',headerlength=bh,bindtype=bt)"
   ]
  }
 ],
 "metadata": {
  "kernelspec": {
   "display_name": "Python 3",
   "language": "python",
   "name": "python3"
  },
  "toc": {
   "colors": {
    "hover_highlight": "#DAA520",
    "navigate_num": "#000000",
    "navigate_text": "#333333",
    "running_highlight": "#FF0000",
    "selected_highlight": "#FFD700",
    "sidebar_border": "#EEEEEE",
    "wrapper_background": "#FFFFFF"
   },
   "moveMenuLeft": true,
   "nav_menu": {
    "height": "12px",
    "width": "252px"
   },
   "navigate_menu": true,
   "number_sections": true,
   "sideBar": true,
   "threshold": 4,
   "toc_cell": false,
   "toc_section_display": "block",
   "toc_window_display": false,
   "widenNotebook": false
  },
  "varInspector": {
   "cols": {
    "lenName": 16,
    "lenType": 16,
    "lenVar": 40
   },
   "kernels_config": {
    "python": {
     "delete_cmd_postfix": "",
     "delete_cmd_prefix": "del ",
     "library": "var_list.py",
     "varRefreshCmd": "print(var_dic_list())"
    },
    "r": {
     "delete_cmd_postfix": ") ",
     "delete_cmd_prefix": "rm(",
     "library": "var_list.r",
     "varRefreshCmd": "cat(var_dic_list()) "
    }
   },
   "types_to_exclude": [
    "module",
    "function",
    "builtin_function_or_method",
    "instance",
    "_Feature"
   ],
   "window_display": false
  }
 },
 "nbformat": 4,
 "nbformat_minor": 2
}
