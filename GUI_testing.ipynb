{
 "cells": [
  {
   "cell_type": "code",
   "execution_count": 5,
   "metadata": {
    "ExecuteTime": {
     "end_time": "2017-08-27T13:59:45.615839Z",
     "start_time": "2017-08-27T13:59:45.592582Z"
    },
    "collapsed": false,
    "editable": true
   },
   "outputs": [
    {
     "name": "stdout",
     "output_type": "stream",
     "text": [
      "The autoreload extension is already loaded. To reload it, use:\n",
      "  %reload_ext autoreload\n"
     ]
    }
   ],
   "source": [
    "import tkinter as tk\n",
    "from tkinter import ttk\n",
    "from tkinter.filedialog import askopenfilename\n",
    "import matplotlib\n",
    "matplotlib.use('TkAgg')\n",
    "import model, os\n",
    "import numpy as np\n",
    "import matplotlib.pyplot as plt\n",
    "%load_ext autoreload\n",
    "%reload_ext autoreload\n",
    "%autoreload 2"
   ]
  },
  {
   "cell_type": "code",
   "execution_count": 21,
   "metadata": {
    "ExecuteTime": {
     "end_time": "2017-08-27T19:14:52.585983Z",
     "start_time": "2017-08-27T19:14:52.236135Z"
    },
    "code_folding": [
     98,
     109
    ],
    "collapsed": false,
    "editable": true
   },
   "outputs": [],
   "source": [
    "class Mainframe(ttk.Frame):\n",
    "    ###create main frame that will hold all permanent widgets\n",
    "    def __init__(self, master):\n",
    "        #mainframe configuration\n",
    "        ttk.Frame.__init__(self, master)\n",
    "        self.master = master\n",
    "        self.padding=\"3 3 12 12\"\n",
    "        self.grid(column=0, row=0, sticky=(tk.N, tk.W, tk.E, tk.S))\n",
    "        self.columnconfigure(0, weight=1)\n",
    "        self.rowconfigure(0, weight=1)\n",
    "        \n",
    "        #file parameters\n",
    "        self.filenamefull = tk.StringVar()\n",
    "        self.filename = tk.StringVar()\n",
    "        self.headerlength = tk.IntVar()\n",
    "        self.datatype = tk.StringVar()\n",
    "        self.samplingrate = tk.DoubleVar()\n",
    "        \n",
    "        #backend interface variables\n",
    "        self.recording = None\n",
    "        \n",
    "        #frame contents\n",
    "        self.commandbar = Commandframe(self)\n",
    "        self.commandbar.grid(column=1,row=1,sticky=(tk.E, tk.N, tk.W))\n",
    "        self.commandbar.load.focus()\n",
    "        \n",
    "    def quit(self):\n",
    "        \"\"\"\n",
    "        Close all windows and exit the main loop\n",
    "        \"\"\"\n",
    "        self.master.destroy()\n",
    "        self.master.quit()\n",
    "    \n",
    "class Commandframe(ttk.Frame):\n",
    "    def __init__(self, parent):\n",
    "        ttk.Frame.__init__(self, parent)\n",
    "        self.parent = parent\n",
    "        self.grid(column=0, row=0, sticky=(tk.N, tk.W, tk.E))\n",
    "        self.rowconfigure(0, weight=1)\n",
    "        self.create_widgets()\n",
    "    def create_widgets(self):\n",
    "        self.load = ttk.Button(self, text=\"Load file\", command=self.load_dialog)\n",
    "        self.load.grid(column=1,row=1,sticky=(tk.N, tk.E))\n",
    "    def load_dialog(self):\n",
    "        subframe = Loadframe(self.parent)\n",
    "        \n",
    "class Plotframe(ttk.Frame):\n",
    "    def __init__(self, parent):\n",
    "        ttk.Frame.__init__(self, parent)\n",
    "        self.parent = parent\n",
    "        self.grid(column=0, row=0, sticky=(tk.N, tk.W, tk.E))\n",
    "        self.rowconfigure(0, weight=1)\n",
    "    \n",
    "class Loadframe(tk.Toplevel):\n",
    "    ### temporary frame that gets the file and information about it\n",
    "    def __init__(self, master):\n",
    "        tk.Toplevel.__init__(self,master)\n",
    "        self.master = master\n",
    "        self.padding=\"3 3 12 12\"\n",
    "                    \n",
    "        self.filenamefull = tk.StringVar()\n",
    "        self.filename = tk.StringVar()\n",
    "        self.path = tk.StringVar()\n",
    "        self.filetypefull = tk.StringVar()\n",
    "        self.filetype = tk.StringVar()\n",
    "        \n",
    "        self.create_widgets()\n",
    "        \n",
    "        self.loadbutton.focus()\n",
    "\n",
    "    def create_widgets(self):\n",
    "        # first row - filename and button for choosing file\n",
    "        ttk.Label(self, text='File:').grid(column=1, row=1, sticky = (tk.N, tk.W))\n",
    "        ttk.Label(self, textvariable=self.filename).grid(column=2, row=1, sticky=(tk.N, tk.W, tk.E))\n",
    "        self.loadbutton = ttk.Button(self, text='Select file', command=self.get_file)\n",
    "        self.loadbutton.grid(column = 3, row = 1, sticky=(tk.N, tk.E))\n",
    "        #second row - show filepath\n",
    "        ttk.Label(self, text='Path:').grid(column=1, row=2, sticky = tk.W)\n",
    "        ttk.Label(self, textvariable=self.path).grid(column=2, row=2, sticky=(tk.W, tk.E))\n",
    "        #third row - show filetype\n",
    "        ttk.Label(self, text='Filetype:').grid(column=1, row=3, sticky = tk.W)\n",
    "        ttk.Label(self, textvariable=self.filetypefull).grid(column=2, row=3, sticky=(tk.W, tk.E))\n",
    "        #fourth row - ok button to close and go to next window\n",
    "        self.okbutton = ttk.Button(self, text=\"Ok\", command=self.ok_button)\n",
    "        self.okbutton.grid(column=1, row=4, sticky=(tk.S, tk.W))\n",
    "        self.closebutton = ttk.Button(self, text=\"Quit\", command=self.master.quit)\n",
    "        self.closebutton.grid(column=3, row=4, sticky=(tk.S, tk.E))\n",
    "    \n",
    "    def ok_button(self):\n",
    "        self.master.filenamefull = self.filenamefull\n",
    "        self.master.filename = self.filename\n",
    "        if self.filetype.get() == 'bin':\n",
    "            binframe = Binaryquery(self.master)\n",
    "            self.master.recording = model.Recording(self.filenamefull.get(), self.master.samplingrate.get(), self.filetype.get(), self.master.headerlength.get(), self.master.datatype.get())\n",
    "        elif self.filetype.get() == 'axo':\n",
    "            axoframe = Axoquery(self.master)\n",
    "            self.master.recording = model.Recording(self.filenamefull.get(), self.master.samplingrate.get(), self.filetype.get())\n",
    "        self.destroy()            \n",
    "    \n",
    "    def get_file(self):\n",
    "        \"\"\"\n",
    "        Get data by clicking\n",
    "        relies on tkinter and gets name and type of the file\n",
    "        \"\"\"\n",
    "        fn = askopenfilename()\n",
    "        self.filenamefull.set(fn)\n",
    "        extension = ''\n",
    "        i = 0\n",
    "        N = len(fn)\n",
    "        for char in fn[::-1]:\n",
    "            if char=='.': \n",
    "                period = N-i\n",
    "            if char=='/':\n",
    "                slash = N-i\n",
    "                break\n",
    "            i+=1\n",
    "        self.filename.set(fn[slash:])\n",
    "        self.path.set(fn[:slash])\n",
    "        extension=fn[period:]\n",
    "        if extension == 'bin':\n",
    "            self.filetype.set('bin')\n",
    "            self.filetypefull.set('binary')\n",
    "        elif extension == 'axgd':\n",
    "            self.filetype.set('axo')\n",
    "            self.filetypefull.set('axograph')\n",
    "\n",
    "class Binaryquery(tk.Toplevel):\n",
    "    def __init__(self, master):\n",
    "        #frame configuration\n",
    "        tk.Toplevel.__init__(self,master)\n",
    "        self.master = master\n",
    "        self.padding=\"3 3 12 12\"\n",
    "        self.title(\"Additional parameters for binary file\")\n",
    "        \n",
    "        #initialize content\n",
    "        self.create_widgets()\n",
    "    \n",
    "    def create_widgets(self):\n",
    "        #get sampling rate\n",
    "        self.samplingentry = ttk.Entry(self, width=7, textvariable=self.master.samplingrate)\n",
    "        self.samplingentry.grid(column=3,row=1,sticky=(tk.W,tk.N))\n",
    "        ttk.Label(self, text=\"Samplingrate (Hz):\").grid(column=2,row=1,sticky=(tk.N))\n",
    "        #entry field for headerlength\n",
    "        self.headerentry = ttk.Entry(self, width=7, textvariable=self.master.headerlength)\n",
    "        self.headerentry.grid(column=3,row=2,sticky=(tk.W,tk.N))\n",
    "        ttk.Label(self, text=\"Headerlength:\").grid(column=2,row=1,sticky=(tk.N))\n",
    "        #entry field for filetype\n",
    "        self.typeentry = ttk.Entry(self, width=7, textvariable=self.master.datatype)\n",
    "        self.typeentry.grid(column=3,row=3,sticky=(tk.W,tk.S))\n",
    "        ttk.Label(self, text=\"Datatype:\").grid(column=2,row=2,sticky=tk.S)\n",
    "        #'ok' and 'cancel button\n",
    "        self.okbutton = ttk.Button(self, text=\"Ok\", command=self.destroy)\n",
    "        self.okbutton.grid(column=2, row=4, sticky=(tk.S, tk.W))\n",
    "\n",
    "class Axoquery(tk.Toplevel):\n",
    "    def __init__(self, master):\n",
    "        #frame configuration\n",
    "        tk.Toplevel.__init__(self,master)\n",
    "        self.master = master\n",
    "        self.padding=\"3 3 12 12\"\n",
    "        self.title(\"Additional parameters for axograph file\")\n",
    "        \n",
    "        #initialize content\n",
    "        self.create_widgets()\n",
    "    \n",
    "    def create_widgets(self):\n",
    "        #get sampling rate\n",
    "        self.samplingentry = ttk.Entry(self, width=7, textvariable=self.master.samplingrate)\n",
    "        self.samplingentry.grid(column=3,row=1,sticky=(tk.W,tk.N))\n",
    "        ttk.Label(self, text=\"Samplingrate (Hz):\").grid(column=2,row=1,sticky=(tk.N))\n",
    "        #ok button\n",
    "        self.okbutton = ttk.Button(self, text=\"Ok\", command=self.destroy)\n",
    "        self.okbutton.grid(column=2, row=2, sticky=(tk.S, tk.W))\n"
   ]
  },
  {
   "cell_type": "code",
   "execution_count": 22,
   "metadata": {
    "ExecuteTime": {
     "end_time": "2017-08-27T19:14:53.649109Z",
     "start_time": "2017-08-27T19:14:53.627958Z"
    },
    "collapsed": false,
    "editable": true
   },
   "outputs": [],
   "source": [
    "def gui_main():\n",
    "    ### initialize tkinter root window\n",
    "    root = tk.Tk()\n",
    "    ### initialize mainframe\n",
    "    mainframe = Mainframe(root)\n",
    "    for child in root.winfo_children(): child.grid_configure(padx=5, pady=5)        \n",
    "    root.mainloop()"
   ]
  },
  {
   "cell_type": "code",
   "execution_count": null,
   "metadata": {
    "ExecuteTime": {
     "start_time": "2017-08-27T17:14:54.406Z"
    },
    "collapsed": false
   },
   "outputs": [],
   "source": [
    "gui_main()"
   ]
  },
  {
   "cell_type": "code",
   "execution_count": 11,
   "metadata": {
    "ExecuteTime": {
     "end_time": "2017-08-27T18:59:40.589158Z",
     "start_time": "2017-08-27T18:59:40.567321Z"
    },
    "collapsed": true
   },
   "outputs": [],
   "source": [
    "from matplotlib.backends.backend_tkagg import FigureCanvasTkAgg, NavigationToolbar2TkAgg\n",
    "from matplotlib.backend_bases import key_press_handler"
   ]
  },
  {
   "cell_type": "code",
   "execution_count": 15,
   "metadata": {
    "ExecuteTime": {
     "end_time": "2017-08-27T19:02:53.479015Z",
     "start_time": "2017-08-27T19:02:53.169681Z"
    },
    "collapsed": false
   },
   "outputs": [],
   "source": [
    "x = np.linspace(0,2*np.pi)\n",
    "y = np.cos(x)\n",
    "fig = plt.figure(figsize=(5,2))\n",
    "a = fig.add_subplot(111)\n",
    "a.plot(x,y)\n",
    "\n",
    "root = tk.Tk()\n",
    "\n",
    "canvas = FigureCanvasTkAgg(fig,master=root)\n",
    "canvas.show()\n",
    "canvas.get_tk_widget().pack(fill=tk.BOTH,expand=True)\n",
    "\n",
    "toolbar = NavigationToolbar2TkAgg(canvas, root)\n",
    "toolbar.update()\n",
    "canvas._tkcanvas.pack()"
   ]
  },
  {
   "cell_type": "code",
   "execution_count": null,
   "metadata": {
    "collapsed": true
   },
   "outputs": [],
   "source": [
    "cwd = os.getcwd()\n",
    "bn = cwd+'/data/sim1600.bin'\n",
    "bt = np.int16\n",
    "bh = 3072\n",
    "rec = model.Recording(filename=filename,filetype='bin',headerlength=bh,bindtype=bt)"
   ]
  }
 ],
 "metadata": {
  "kernelspec": {
   "display_name": "Python 3",
   "language": "python",
   "name": "python3"
  },
  "language_info": {
   "codemirror_mode": {
    "name": "ipython",
    "version": 3
   },
   "file_extension": ".py",
   "mimetype": "text/x-python",
   "name": "python",
   "nbconvert_exporter": "python",
   "pygments_lexer": "ipython3",
   "version": "3.6.0"
  },
  "toc": {
   "colors": {
    "hover_highlight": "#DAA520",
    "navigate_num": "#000000",
    "navigate_text": "#333333",
    "running_highlight": "#FF0000",
    "selected_highlight": "#FFD700",
    "sidebar_border": "#EEEEEE",
    "wrapper_background": "#FFFFFF"
   },
   "moveMenuLeft": true,
   "nav_menu": {
    "height": "12px",
    "width": "252px"
   },
   "navigate_menu": true,
   "number_sections": true,
   "sideBar": true,
   "threshold": 4,
   "toc_cell": false,
   "toc_section_display": "block",
   "toc_window_display": false,
   "widenNotebook": false
  },
  "varInspector": {
   "cols": {
    "lenName": 16,
    "lenType": 16,
    "lenVar": 40
   },
   "kernels_config": {
    "python": {
     "delete_cmd_postfix": "",
     "delete_cmd_prefix": "del ",
     "library": "var_list.py",
     "varRefreshCmd": "print(var_dic_list())"
    },
    "r": {
     "delete_cmd_postfix": ") ",
     "delete_cmd_prefix": "rm(",
     "library": "var_list.r",
     "varRefreshCmd": "cat(var_dic_list()) "
    }
   },
   "types_to_exclude": [
    "module",
    "function",
    "builtin_function_or_method",
    "instance",
    "_Feature"
   ],
   "window_display": false
  }
 },
 "nbformat": 4,
 "nbformat_minor": 2
}
