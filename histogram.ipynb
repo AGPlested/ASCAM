{
 "cells": [
  {
   "cell_type": "code",
   "execution_count": 42,
   "metadata": {
    "ExecuteTime": {
     "end_time": "2017-11-29T21:48:19.839377Z",
     "start_time": "2017-11-29T21:48:19.699837Z"
    },
    "collapsed": false,
    "editable": true
   },
   "outputs": [],
   "source": [
    "import numpy as np\n",
    "import model as backend\n",
    "import matplotlib.pyplot as plt\n",
    "# %matplotlib inline\n",
    "%load_ext autoreload\n",
    "%reload_ext autoreload\n",
    "%autoreload 2\n",
    "import copy"
   ]
  },
  {
   "cell_type": "code",
   "execution_count": 2,
   "metadata": {
    "ExecuteTime": {
     "end_time": "2017-11-29T21:04:15.060699Z",
     "start_time": "2017-11-29T21:04:14.913432Z"
    },
    "collapsed": true,
    "editable": true
   },
   "outputs": [],
   "source": [
    "Recording = backend.Model()"
   ]
  },
  {
   "cell_type": "code",
   "execution_count": 3,
   "metadata": {
    "ExecuteTime": {
     "end_time": "2017-11-29T21:04:15.153091Z",
     "start_time": "2017-11-29T21:04:15.118872Z"
    },
    "collapsed": true,
    "editable": true
   },
   "outputs": [],
   "source": [
    "exp = copy.deepcopy(Recording)"
   ]
  },
  {
   "cell_type": "code",
   "execution_count": 4,
   "metadata": {
    "ExecuteTime": {
     "end_time": "2017-11-29T21:04:15.952622Z",
     "start_time": "2017-11-29T21:04:15.276973Z"
    },
    "collapsed": false,
    "editable": true
   },
   "outputs": [
    {
     "data": {
      "text/plain": [
       "[<matplotlib.lines.Line2D at 0x7fdc32530f60>]"
      ]
     },
     "execution_count": 4,
     "metadata": {},
     "output_type": "execute_result"
    },
    {
     "data": {
      "image/png": "[encoded data removed]",
      "text/plain": [
       "<matplotlib.figure.Figure at 0x7fdc63106668>"
      ]
     },
     "metadata": {},
     "output_type": "display_data"
    }
   ],
   "source": [
    "plt.plot(exp['raw_'][0]['time'],exp['raw_'][0]['trace'])"
   ]
  },
  {
   "cell_type": "code",
   "execution_count": 5,
   "metadata": {
    "ExecuteTime": {
     "end_time": "2017-11-29T21:04:16.142305Z",
     "start_time": "2017-11-29T21:04:16.034660Z"
    },
    "collapsed": true,
    "editable": true
   },
   "outputs": [],
   "source": [
    "exp.call_operation('BC_',[[0,10],[125,200]],'poly',1)"
   ]
  },
  {
   "cell_type": "code",
   "execution_count": 6,
   "metadata": {
    "ExecuteTime": {
     "end_time": "2017-11-29T21:04:16.956615Z",
     "start_time": "2017-11-29T21:04:16.327985Z"
    },
    "collapsed": false,
    "editable": true
   },
   "outputs": [
    {
     "data": {
      "text/plain": [
       "[<matplotlib.lines.Line2D at 0x7fdc3205a6d8>]"
      ]
     },
     "execution_count": 6,
     "metadata": {},
     "output_type": "execute_result"
    },
    {
     "data": {
      "image/png": "[encoded data removed]",
      "text/plain": [
       "<matplotlib.figure.Figure at 0x7fdc324f5eb8>"
      ]
     },
     "metadata": {},
     "output_type": "display_data"
    }
   ],
   "source": [
    "plt.plot(exp['BC_'][0]['time'],exp['BC_'][0]['trace'])"
   ]
  },
  {
   "cell_type": "code",
   "execution_count": 7,
   "metadata": {
    "ExecuteTime": {
     "end_time": "2017-11-29T21:04:17.100446Z",
     "start_time": "2017-11-29T21:04:17.086253Z"
    },
    "collapsed": false,
    "editable": true
   },
   "outputs": [
    {
     "data": {
      "text/plain": [
       "(dict_keys(['raw_', 'BC_']), 'BC_')"
      ]
     },
     "execution_count": 7,
     "metadata": {},
     "output_type": "execute_result"
    }
   ],
   "source": [
    "exp.keys(), exp.currentDatakey"
   ]
  },
  {
   "cell_type": "code",
   "execution_count": 8,
   "metadata": {
    "ExecuteTime": {
     "end_time": "2017-11-29T21:04:17.359922Z",
     "start_time": "2017-11-29T21:04:17.262998Z"
    },
    "collapsed": true,
    "editable": true
   },
   "outputs": [],
   "source": [
    "exp.call_operation('FILTER_',filterFrequency = 1e3)"
   ]
  },
  {
   "cell_type": "code",
   "execution_count": 9,
   "metadata": {
    "ExecuteTime": {
     "end_time": "2017-11-29T21:04:17.543993Z",
     "start_time": "2017-11-29T21:04:17.527060Z"
    },
    "collapsed": false,
    "editable": true
   },
   "outputs": [
    {
     "data": {
      "text/plain": [
       "(dict_keys(['raw_', 'BC_', 'BC_FILTER_']), 'BC_FILTER_')"
      ]
     },
     "execution_count": 9,
     "metadata": {},
     "output_type": "execute_result"
    }
   ],
   "source": [
    "exp.keys(), exp.currentDatakey"
   ]
  },
  {
   "cell_type": "code",
   "execution_count": 10,
   "metadata": {
    "ExecuteTime": {
     "end_time": "2017-11-29T21:04:17.863014Z",
     "start_time": "2017-11-29T21:04:17.546087Z"
    },
    "collapsed": false,
    "editable": true
   },
   "outputs": [
    {
     "data": {
      "text/plain": [
       "[<matplotlib.lines.Line2D at 0x7fdc31f85278>]"
      ]
     },
     "execution_count": 10,
     "metadata": {},
     "output_type": "execute_result"
    },
    {
     "data": {
      "image/png": "[encoded data removed]",
      "text/plain": [
       "<matplotlib.figure.Figure at 0x7fdc31a5b1d0>"
      ]
     },
     "metadata": {},
     "output_type": "display_data"
    }
   ],
   "source": [
    "plt.plot(exp['BC_FILTER_'][0]['time'],exp['BC_FILTER_'][0]['trace'])"
   ]
  },
  {
   "cell_type": "code",
   "execution_count": 11,
   "metadata": {
    "ExecuteTime": {
     "end_time": "2017-11-29T21:04:18.291050Z",
     "start_time": "2017-11-29T21:04:18.233601Z"
    },
    "collapsed": true,
    "editable": true
   },
   "outputs": [],
   "source": [
    "currentDataKey = 'BC_FILTER_'\n",
    "data = np.array([])\n",
    "for episode in exp[currentDataKey]:\n",
    "    data = np.hstack([data,episode['trace']])"
   ]
  },
  {
   "cell_type": "code",
   "execution_count": 12,
   "metadata": {
    "ExecuteTime": {
     "end_time": "2017-11-29T21:04:19.803354Z",
     "start_time": "2017-11-29T21:04:18.464046Z"
    },
    "collapsed": false,
    "editable": true
   },
   "outputs": [
    {
     "data": {
      "image/png": "[encoded data removed]",
      "text/plain": [
       "<matplotlib.figure.Figure at 0x7fdc31fcd438>"
      ]
     },
     "metadata": {},
     "output_type": "display_data"
    }
   ],
   "source": [
    "n, b, p = plt.hist(data, 500)"
   ]
  },
  {
   "cell_type": "code",
   "execution_count": 13,
   "metadata": {
    "ExecuteTime": {
     "end_time": "2017-11-29T21:04:20.032872Z",
     "start_time": "2017-11-29T21:04:20.015900Z"
    },
    "collapsed": true,
    "editable": true
   },
   "outputs": [],
   "source": [
    "time = exp['BC_FILTER_'][0]['time']\n",
    "trace = exp['BC_FILTER_'][0]['trace']"
   ]
  },
  {
   "cell_type": "code",
   "execution_count": 16,
   "metadata": {
    "ExecuteTime": {
     "end_time": "2017-11-29T21:04:42.046072Z",
     "start_time": "2017-11-29T21:04:41.617702Z"
    },
    "collapsed": true,
    "editable": true
   },
   "outputs": [],
   "source": [
    "exp = backend.Model(filename='data/170922 004 Copy Export.mat')"
   ]
  },
  {
   "cell_type": "code",
   "execution_count": 17,
   "metadata": {
    "ExecuteTime": {
     "end_time": "2017-11-29T21:04:44.202313Z",
     "start_time": "2017-11-29T21:04:43.923359Z"
    },
    "collapsed": false,
    "editable": true
   },
   "outputs": [
    {
     "data": {
      "text/plain": [
       "[<matplotlib.lines.Line2D at 0x7fdc2aa2af28>]"
      ]
     },
     "execution_count": 17,
     "metadata": {},
     "output_type": "execute_result"
    },
    {
     "data": {
      "image/png": "[encoded data removed]",
      "text/plain": [
       "<matplotlib.figure.Figure at 0x7fdc2b349f28>"
      ]
     },
     "metadata": {},
     "output_type": "display_data"
    }
   ],
   "source": [
    "plt.plot(exp['raw_'][3]['time'],exp['raw_'][3]['trace'])"
   ]
  },
  {
   "cell_type": "code",
   "execution_count": 18,
   "metadata": {
    "ExecuteTime": {
     "end_time": "2017-11-29T21:04:45.858137Z",
     "start_time": "2017-11-29T21:04:45.637562Z"
    },
    "collapsed": false,
    "editable": true
   },
   "outputs": [
    {
     "data": {
      "text/plain": [
       "[<matplotlib.lines.Line2D at 0x7fdc2a88d7b8>]"
      ]
     },
     "execution_count": 18,
     "metadata": {},
     "output_type": "execute_result"
    },
    {
     "data": {
      "image/png": "[encoded data removed]",
      "text/plain": [
       "<matplotlib.figure.Figure at 0x7fdc2a8c0908>"
      ]
     },
     "metadata": {},
     "output_type": "display_data"
    }
   ],
   "source": [
    "plt.plot(exp['raw_'][0]['time'],exp['raw_'][0]['piezo'])"
   ]
  },
  {
   "cell_type": "code",
   "execution_count": 19,
   "metadata": {
    "ExecuteTime": {
     "end_time": "2017-11-29T21:04:49.520060Z",
     "start_time": "2017-11-29T21:04:48.618003Z"
    },
    "collapsed": false,
    "editable": true
   },
   "outputs": [],
   "source": [
    "exp.call_operation('BC_',[[0,10],[75,100]])"
   ]
  },
  {
   "cell_type": "code",
   "execution_count": 20,
   "metadata": {
    "ExecuteTime": {
     "end_time": "2017-11-29T21:04:52.871318Z",
     "start_time": "2017-11-29T21:04:52.457079Z"
    },
    "collapsed": true,
    "editable": true
   },
   "outputs": [],
   "source": [
    "exp.call_operation('FILTER_')"
   ]
  },
  {
   "cell_type": "code",
   "execution_count": 21,
   "metadata": {
    "ExecuteTime": {
     "end_time": "2017-11-29T21:04:56.906164Z",
     "start_time": "2017-11-29T21:04:56.623560Z"
    },
    "collapsed": false,
    "editable": true
   },
   "outputs": [
    {
     "data": {
      "text/plain": [
       "[<matplotlib.lines.Line2D at 0x7fdc2a64d7b8>]"
      ]
     },
     "execution_count": 21,
     "metadata": {},
     "output_type": "execute_result"
    },
    {
     "data": {
      "image/png": "[encoded data removed]",
      "text/plain": [
       "<matplotlib.figure.Figure at 0x7fdc2a63d278>"
      ]
     },
     "metadata": {},
     "output_type": "display_data"
    }
   ],
   "source": [
    "plt.plot(exp['BC_FILTER_'][0]['time'],exp['BC_FILTER_'][0]['trace'])"
   ]
  },
  {
   "cell_type": "code",
   "execution_count": 22,
   "metadata": {
    "ExecuteTime": {
     "end_time": "2017-11-29T21:05:00.814454Z",
     "start_time": "2017-11-29T21:05:00.796012Z"
    },
    "collapsed": true,
    "editable": true
   },
   "outputs": [],
   "source": [
    "def piezo_selection(time,piezo,trace,active=True):\n",
    "    maxPiezo = np.max(np.abs(piezo))\n",
    "    if active:\n",
    "        indices = np.where((maxPiezo-np.abs(piezo))/maxPiezo<.05)\n",
    "    else:\n",
    "        indices = np.where(np.abs(piezo)/maxPiezo<.05)\n",
    "    return time[indices],piezo[indices], trace[indices]"
   ]
  },
  {
   "cell_type": "code",
   "execution_count": 84,
   "metadata": {
    "ExecuteTime": {
     "end_time": "2017-11-29T21:58:56.231934Z",
     "start_time": "2017-11-29T21:58:56.056888Z"
    },
    "collapsed": false,
    "editable": true
   },
   "outputs": [],
   "source": [
    "import matplotlib.pyplot as plt\n",
    "import numpy as np\n",
    "\n",
    "mu, sigma = 100, 15\n",
    "x = mu + sigma * np.random.randn(1000000)\n",
    "hist, bins = np.histogram(x, bins=50)\n",
    "width = 0.7 * (bins[1] - bins[0])\n",
    "center = (bins[:-1] + bins[1:]) / 2\n",
    "plot = plt.bar(center, hist, width=width)"
   ]
  },
  {
   "cell_type": "code",
   "execution_count": 85,
   "metadata": {
    "ExecuteTime": {
     "end_time": "2017-11-29T21:58:57.218755Z",
     "start_time": "2017-11-29T21:58:57.011786Z"
    },
    "collapsed": false
   },
   "outputs": [
    {
     "data": {
      "image/png": "[encoded data removed]",
      "text/plain": [
       "<matplotlib.figure.Figure at 0x7ffa4d8fcf28>"
      ]
     },
     "metadata": {},
     "output_type": "display_data"
    }
   ],
   "source": [
    "plt.show(plot)"
   ]
  },
  {
   "cell_type": "code",
   "execution_count": 14,
   "metadata": {
    "ExecuteTime": {
     "end_time": "2017-11-29T21:26:42.099694Z",
     "start_time": "2017-11-29T21:26:42.095262Z"
    },
    "collapsed": true
   },
   "outputs": [],
   "source": [
    "x = np.array([[1,1],[2,2]])"
   ]
  },
  {
   "cell_type": "code",
   "execution_count": 20,
   "metadata": {
    "ExecuteTime": {
     "end_time": "2017-11-29T21:32:12.970416Z",
     "start_time": "2017-11-29T21:32:12.967070Z"
    },
    "collapsed": false
   },
   "outputs": [],
   "source": [
    "y = np.array([x,x])"
   ]
  },
  {
   "cell_type": "code",
   "execution_count": 21,
   "metadata": {
    "ExecuteTime": {
     "end_time": "2017-11-29T21:32:17.255014Z",
     "start_time": "2017-11-29T21:32:17.248723Z"
    },
    "collapsed": false
   },
   "outputs": [
    {
     "data": {
      "text/plain": [
       "array([[[1, 1],\n",
       "        [2, 2]],\n",
       "\n",
       "       [[1, 1],\n",
       "        [2, 2]]])"
      ]
     },
     "execution_count": 21,
     "metadata": {},
     "output_type": "execute_result"
    }
   ],
   "source": [
    "y"
   ]
  },
  {
   "cell_type": "code",
   "execution_count": 95,
   "metadata": {
    "ExecuteTime": {
     "end_time": "2017-11-29T22:00:19.766806Z",
     "start_time": "2017-11-29T22:00:19.715901Z"
    },
    "collapsed": false
   },
   "outputs": [],
   "source": [
    "import numpy as np \n",
    "import matplotlib.pyplot as plt\n",
    "\n",
    "def piezo_selection(time, piezo, trace, active = True, deviation = 0.05):\n",
    "    \"\"\"\n",
    "    Selects part of the episode based on the Piezo voltage.\n",
    "    The selection is done by choosing extracting the data from those time\n",
    "    points where the value of the piezo voltage is either within a certain\n",
    "    range (percentage wise) of the maximum or below a certain percentage \n",
    "    of the maximum.\n",
    "    Works in relative terms, i.e. it does not matter if piezo voltage is\n",
    "    positive or negative. Only works for blocks of the same amplitude.\n",
    "    Parameters:\n",
    "        time [1D array of floats] - Vector containing the time points.\n",
    "        piezo [1D array of floats] - Vector of piezo voltages.\n",
    "        trace [1D array of floats] - Vector of current trace.\n",
    "        active [boolean] - If true return time points at which piezo \n",
    "                           voltage is within `deviation` percent of the \n",
    "                           maximum piezo voltage.\n",
    "        deviation [float] - Deviation, as a percentage, from the maximum\n",
    "                            piezo voltage or threshold below which voltage\n",
    "                            should be.\n",
    "    Returns:\n",
    "        time [1D array of floats] - The timestamps of the selected points.\n",
    "        piezo [1D array of floats] - The piezo voltage at selected points.\n",
    "        trace [1D array of floats] - The current at selected points.\n",
    "    \"\"\"\n",
    "    maxPiezo = np.max(np.abs(piezo))\n",
    "    if active:\n",
    "        indices = np.where((maxPiezo-np.abs(piezo))/maxPiezo<deviation)\n",
    "    else:\n",
    "        indices = np.where(np.abs(piezo)/maxPiezo<deviation)\n",
    "    time = time[indices]\n",
    "    piezo = piezo[indices]\n",
    "    trace = trace[indices] \n",
    "    return time, piezo, trace\n",
    "\n",
    "def create_histogram(traces, bins):\n",
    "    \"\"\"\n",
    "    Create a histogram of the values in `traces`. Keyword arguments for\n",
    "    `np.histogram` can be given as kwargs here.\n",
    "    Parameters:\n",
    "        traces [numpy array] - Array containing all the values for the \n",
    "                               histogram.\n",
    "        **kwargs - Keyword arguments for the `numpy.histogram` function\n",
    "    \"\"\"\n",
    "    traces = traces.flatten()\n",
    "    hist, bins = np.histogram(traces, bins)\n",
    "    return hist, bins\n",
    "\n",
    "def all_point_histogram(time, piezos, traces, active = True, \n",
    "                        deviation=.05, bins = 200, **kwargs):\n",
    "    \"\"\"\n",
    "    Creates an all-point-histogram of selected values in trace. The values\n",
    "    are selected based on whether or not the piezo device is active.\n",
    "    Parameters:\n",
    "        time [1D array of floats] - Vector containing the time points.\n",
    "        piezo [array of floats] - Vector of piezo voltages.\n",
    "        trace [array of floats] - Vector of current trace.\n",
    "        active [boolean] - If true return time points at which piezo \n",
    "                           voltage is within `deviation` percent of the \n",
    "                           maximum piezo voltage.\n",
    "        deviation [float] - Deviation, as a percentage, from the maximum\n",
    "                            piezo voltage or threshold below which voltage\n",
    "                            should be.\n",
    "        **kwargs - Keyword arguments for the `pyplot.bar` function.\n",
    "    Returns:\n",
    "        plot - Object containing the plot, can be shows by pyplot.`show()`\n",
    "        time [1D array of floats] - The timestamps of the selected points.\n",
    "        piezo_list [2D array of floats] - Each row contains the piezo values\n",
    "                                         at the selected times for an episode.\n",
    "        trace_list [2D array of floats] - Each row contains the current values\n",
    "                                         at the selected times for an episode.\n",
    "    \"\"\"\n",
    "    trace_list = []\n",
    "    piezo_list = []\n",
    "    for p, t in zip(piezos, traces):\n",
    "        time_selection, piezo, trace = piezo_selection(time, p, t, active, deviation)\n",
    "        piezo_list.append(piezo)\n",
    "        trace_list.append(trace)\n",
    "    trace_list = np.asarray(trace_list)\n",
    "    piezo_list = np.asarray(piezo_list)\n",
    "    hist, bins = create_histogram(trace_list, bins)\n",
    "    center = (bins[:-1] + bins[1:]) / 2\n",
    "    width = (bins[1] - bins[0])\n",
    "    plot = plt.bar(center, hist, width=width, **kwargs)\n",
    "    return plot, time_selection, piezo_list, trace_list"
   ]
  },
  {
   "cell_type": "code",
   "execution_count": 77,
   "metadata": {
    "ExecuteTime": {
     "end_time": "2017-11-29T21:58:11.787435Z",
     "start_time": "2017-11-29T21:58:11.732857Z"
    },
    "collapsed": true
   },
   "outputs": [],
   "source": [
    "eps = backend.Model()"
   ]
  },
  {
   "cell_type": "code",
   "execution_count": 78,
   "metadata": {
    "ExecuteTime": {
     "end_time": "2017-11-29T21:58:12.007904Z",
     "start_time": "2017-11-29T21:58:11.990298Z"
    },
    "collapsed": false
   },
   "outputs": [],
   "source": [
    "piezos = []\n",
    "traces = []\n",
    "time = eps['raw_'][0]['time']\n",
    "for episode in eps['raw_']:\n",
    "    piezos.append(episode['piezo'])\n",
    "    traces.append(episode['trace'])"
   ]
  },
  {
   "cell_type": "code",
   "execution_count": 96,
   "metadata": {
    "ExecuteTime": {
     "end_time": "2017-11-29T22:00:22.127053Z",
     "start_time": "2017-11-29T22:00:21.836194Z"
    },
    "collapsed": false
   },
   "outputs": [],
   "source": [
    "plot, times, piezo_list, trace_list = all_point_histogram(time,piezos,traces)"
   ]
  },
  {
   "cell_type": "code",
   "execution_count": 97,
   "metadata": {
    "ExecuteTime": {
     "end_time": "2017-11-29T22:00:22.686978Z",
     "start_time": "2017-11-29T22:00:22.259835Z"
    },
    "collapsed": false
   },
   "outputs": [
    {
     "data": {
      "image/png": "[encoded data removed]",
      "text/plain": [
       "<matplotlib.figure.Figure at 0x7ffa547c7550>"
      ]
     },
     "metadata": {},
     "output_type": "display_data"
    }
   ],
   "source": [
    "plt.show(plot)"
   ]
  },
  {
   "cell_type": "code",
   "execution_count": 70,
   "metadata": {
    "ExecuteTime": {
     "end_time": "2017-11-29T21:57:07.412726Z",
     "start_time": "2017-11-29T21:57:07.395465Z"
    },
    "collapsed": true
   },
   "outputs": [],
   "source": [
    "plt.show()"
   ]
  },
  {
   "cell_type": "code",
   "execution_count": null,
   "metadata": {
    "collapsed": true
   },
   "outputs": [],
   "source": []
  }
 ],
 "metadata": {
  "kernelspec": {
   "display_name": "Python 3",
   "language": "python",
   "name": "python3"
  },
  "language_info": {
   "codemirror_mode": {
    "name": "ipython",
    "version": 3
   },
   "file_extension": ".py",
   "mimetype": "text/x-python",
   "name": "python",
   "nbconvert_exporter": "python",
   "pygments_lexer": "ipython3",
   "version": "3.6.0"
  },
  "toc": {
   "colors": {
    "hover_highlight": "#DAA520",
    "navigate_num": "#000000",
    "navigate_text": "#333333",
    "running_highlight": "#FF0000",
    "selected_highlight": "#FFD700",
    "sidebar_border": "#EEEEEE",
    "wrapper_background": "#FFFFFF"
   },
   "moveMenuLeft": true,
   "nav_menu": {
    "height": "12px",
    "width": "252px"
   },
   "navigate_menu": true,
   "number_sections": true,
   "sideBar": true,
   "threshold": 4,
   "toc_cell": false,
   "toc_section_display": "block",
   "toc_window_display": false,
   "widenNotebook": false
  },
  "varInspector": {
   "cols": {
    "lenName": 16,
    "lenType": 16,
    "lenVar": 40
   },
   "kernels_config": {
    "python": {
     "delete_cmd_postfix": "",
     "delete_cmd_prefix": "del ",
     "library": "var_list.py",
     "varRefreshCmd": "print(var_dic_list())"
    },
    "r": {
     "delete_cmd_postfix": ") ",
     "delete_cmd_prefix": "rm(",
     "library": "var_list.r",
     "varRefreshCmd": "cat(var_dic_list()) "
    }
   },
   "types_to_exclude": [
    "module",
    "function",
    "builtin_function_or_method",
    "instance",
    "_Feature"
   ],
   "window_display": false
  }
 },
 "nbformat": 4,
 "nbformat_minor": 2
}
